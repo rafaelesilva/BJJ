{
 "cells": [
  {
   "cell_type": "code",
   "execution_count": 155,
   "metadata": {},
   "outputs": [],
   "source": [
    "import pandas as pd"
   ]
  },
  {
   "cell_type": "code",
   "execution_count": 156,
   "metadata": {},
   "outputs": [],
   "source": [
    "# Busca os dados em um csv\n",
    "historico_lutas = pd.read_csv(r\"C:\\Users\\Rafael\\Desktop\\MBA\\TCC\\BJJ\\bjj_dado_cru.csv\", encoding='latin-1')"
   ]
  },
  {
   "cell_type": "code",
   "execution_count": 157,
   "metadata": {},
   "outputs": [],
   "source": [
    "# Configura para printar objetos no console\n",
    "pd.set_option(\"display.max.columns\", None)"
   ]
  },
  {
   "cell_type": "code",
   "execution_count": 158,
   "metadata": {},
   "outputs": [],
   "source": [
    "# Renomeia todas as variáveis pelos nomes\n",
    "historico_lutas = historico_lutas.rename(columns={'YEAR':'ano',\n",
    "                                                  'COMPETITION': 'campeonato',\n",
    "                                                  'COMPETITOR': 'competidor',\n",
    "                                                  'WIN_TYPE': 'resultado',\n",
    "                                                  'SUBMISSION_TYPE': 'golpe',\n",
    "                                                  'WEIGHT': 'categoria',\n",
    "                                                  'GENDER': 'genero',\n",
    "                                                  'STAGE': 'etapa'})"
   ]
  },
  {
   "cell_type": "code",
   "execution_count": 159,
   "metadata": {},
   "outputs": [],
   "source": [
    "# Filtro: somente vitórias por finalização (exclui Pontos, Vantagens, etc)\n",
    "historico_golpes = historico_lutas.query('resultado == \"Submission\"').copy()"
   ]
  },
  {
   "cell_type": "code",
   "execution_count": 160,
   "metadata": {},
   "outputs": [
    {
     "name": "stdout",
     "output_type": "stream",
     "text": [
      "Valores únicos de Categorias de Peso:\n",
      "Ultra Heavyweight\n",
      "Super Heavyweight\n",
      "Absolute Division\n",
      "Heavyweight\n",
      "Middleweight\n",
      "Featherweight\n",
      "Medium Heavyweight\n",
      "Lightweight\n",
      "Light Featherweight\n",
      "Rooster Weight\n",
      "-88Kgs\n",
      "49Kgs\n",
      "94Kgs\n",
      "70Kgs\n",
      "55Kgs\n"
     ]
    }
   ],
   "source": [
    "# Verificar os valores únicos da coluna 'Categoria'\n",
    "valores_unicos_categoria = historico_golpes['categoria'].unique()\n",
    "print(\"Valores únicos de Categorias de Peso:\")\n",
    "for valor in valores_unicos_categoria:\n",
    "    print(valor)"
   ]
  },
  {
   "cell_type": "code",
   "execution_count": 161,
   "metadata": {},
   "outputs": [],
   "source": [
    "# Ajustando'categoria'padronizando os valores\n",
    "historico_golpes.loc[historico_golpes['categoria'] == \"49Kgs\", 'categoria'] = \"Rooster Weight\"\n",
    "historico_golpes.loc[historico_golpes['categoria'] == \"55Kgs\", 'categoria'] = \"Light Featherweight\"\n",
    "historico_golpes.loc[historico_golpes['categoria'] == \"70Kgs\", 'categoria'] = \"Featherweight\"\n",
    "historico_golpes.loc[historico_golpes['categoria'] == \"-88Kgs\", 'categoria'] = \"Medium Heavyweight\"\n",
    "historico_golpes.loc[historico_golpes['categoria'] == \"94Kgs\", 'categoria'] = \"Super Heavyweight\"\n"
   ]
  },
  {
   "cell_type": "code",
   "execution_count": 162,
   "metadata": {},
   "outputs": [
    {
     "name": "stdout",
     "output_type": "stream",
     "text": [
      "Valores únicos de Categorias de Peso:\n",
      "Ultra Heavyweight\n",
      "Super Heavyweight\n",
      "Absolute Division\n",
      "Heavyweight\n",
      "Middleweight\n",
      "Featherweight\n",
      "Medium Heavyweight\n",
      "Lightweight\n",
      "Light Featherweight\n",
      "Rooster Weight\n"
     ]
    }
   ],
   "source": [
    "# Verificar os valores únicos da coluna 'Categoria'após ajustados\n",
    "valores_unicos_categoria = historico_golpes['categoria'].unique()\n",
    "print(\"Valores únicos de Categorias de Peso:\")\n",
    "for valor in valores_unicos_categoria:\n",
    "    print(valor)"
   ]
  },
  {
   "cell_type": "code",
   "execution_count": 163,
   "metadata": {},
   "outputs": [
    {
     "name": "stdout",
     "output_type": "stream",
     "text": [
      "Valores únicos de finalizações:\n",
      "Americana\n",
      "Ankle Lock\n",
      "Arm Triangle Choke\n",
      "Armbar\n",
      "Armlock\n",
      "Baseball Bat Choke\n",
      "Brabo Choke\n",
      "Bread Cutter Choke\n",
      "Cachecol Choke\n",
      "Choke\n",
      "Choke From Crucifix\n",
      "Choke From Mount\n",
      "Choke From The Back\n",
      "Cross Choke\n",
      "Darce Choke\n",
      "Double Collar Choke\n",
      "Estima Lock\n",
      "Ezekiel\n",
      "Ezekiel Choke\n",
      "Flying Triangle\n",
      "Footlock\n",
      "Guillotine\n",
      "Katagatame\n",
      "Kimura\n",
      "Lapel Choke\n",
      "Leg Lock\n",
      "Loop Choke\n",
      "Mounted Triangle\n",
      "Omoplata\n",
      "Reverse Triangle\n",
      "Rnc\n",
      "Shoulder Lock\n",
      "Straight Ankle Lock\n",
      "Toehold\n",
      "Triangle\n",
      "Triangle Arm Bar\n",
      "Triangle Choke\n",
      "Wrist Lock\n"
     ]
    }
   ],
   "source": [
    "# Verificar os valores únicos da coluna 'golpe'\n",
    "valores_unicos_golpes = historico_golpes['golpe'].unique()\n",
    "valores_unicos_golpes = sorted(valores_unicos_golpes)\n",
    "print(\"Valores únicos de finalizações:\")\n",
    "for valor in valores_unicos_golpes:\n",
    "    print(valor)"
   ]
  },
  {
   "cell_type": "code",
   "execution_count": 164,
   "metadata": {},
   "outputs": [],
   "source": [
    "# Ajustando'golpes'padronizando os valores\n",
    "historico_golpes.loc[historico_golpes['golpe'] == \"Armbar\", 'golpe'] = \"Armlock\"\n",
    "historico_golpes.loc[historico_golpes['golpe'] == \"Straight Ankle Lock\", 'golpe'] = \"Footlock\"\n",
    "historico_golpes.loc[historico_golpes['golpe'] == \"Ankle Lock\", 'golpe'] = \"Footlock\"\n",
    "historico_golpes.loc[historico_golpes['golpe'] == \"Ezekiel\", 'golpe'] = \"Ezekiel Choke\"\n",
    "historico_golpes.loc[historico_golpes['golpe'] == \"Triangle\", 'golpe'] = \"Triangle Choke\"\n",
    "historico_golpes.loc[historico_golpes['golpe'] == \"Rnc\", 'golpe'] = \"Rear Naked Choke\""
   ]
  },
  {
   "cell_type": "code",
   "execution_count": 165,
   "metadata": {},
   "outputs": [
    {
     "name": "stdout",
     "output_type": "stream",
     "text": [
      "Valores únicos de finalizações:\n",
      "Americana\n",
      "Arm Triangle Choke\n",
      "Armlock\n",
      "Baseball Bat Choke\n",
      "Brabo Choke\n",
      "Bread Cutter Choke\n",
      "Cachecol Choke\n",
      "Choke\n",
      "Choke From Crucifix\n",
      "Choke From Mount\n",
      "Choke From The Back\n",
      "Cross Choke\n",
      "Darce Choke\n",
      "Double Collar Choke\n",
      "Estima Lock\n",
      "Ezekiel Choke\n",
      "Flying Triangle\n",
      "Footlock\n",
      "Guillotine\n",
      "Katagatame\n",
      "Kimura\n",
      "Lapel Choke\n",
      "Leg Lock\n",
      "Loop Choke\n",
      "Mounted Triangle\n",
      "Omoplata\n",
      "Rear Naked Choke\n",
      "Reverse Triangle\n",
      "Shoulder Lock\n",
      "Toehold\n",
      "Triangle Arm Bar\n",
      "Triangle Choke\n",
      "Wrist Lock\n"
     ]
    }
   ],
   "source": [
    "# Verificar os valores únicos da coluna 'golpe' ajustados\n",
    "valores_unicos_golpes = historico_golpes['golpe'].unique()\n",
    "valores_unicos_golpes = sorted(valores_unicos_golpes)\n",
    "print(\"Valores únicos de finalizações:\")\n",
    "for valor in valores_unicos_golpes:\n",
    "    print(valor)"
   ]
  },
  {
   "cell_type": "code",
   "execution_count": 166,
   "metadata": {},
   "outputs": [
    {
     "name": "stdout",
     "output_type": "stream",
     "text": [
      "Valores únicos de campeonatos:\n",
      "2014 Brazilian National Jiu-Jitsu Championship\n",
      "2014 Pan Jiu-Jitsu IBJJF Championship\n",
      "2014 World Jiu-Jitsu IBJJF Championship\n",
      "2015 Brazilian National Jiu-Jitsu Championship\n",
      "2015 World Jiu-Jitsu IBJJF Championship\n",
      "2016 Brazilian National Jiu-Jitsu Championship\n",
      "2016 European Jiu-Jitsu IBJJF Championship\n",
      "2016 IBJJF World Jiu-Jitsu Championship\n",
      "2016 Pan Jiu-Jitsu IBJJF Championship\n",
      "2017 Brazilian National Jiu-Jitsu Championship\n",
      "2018 Brazilian National Jiu-Jitsu Championship\n",
      "2018 European Jiu-Jitsu IBJJF Championship\n",
      "2018 Pan Jiu-Jitsu IBJJF Championship\n",
      "2018 World IBJJF Jiu-Jitsu Championship\n",
      "2019 European Jiu-Jitsu IBJJF Championship\n",
      "2019 Pan Jiu-Jitsu IBJJF Championship\n",
      "2019 World Jiu-Jitsu IBJJF Championship\n",
      "2020 European Jiu-Jitsu IBJJF Championship\n",
      "2020 Pan Jiu-Jitsu IBJJF Championship\n",
      "2021 Brazilian National Jiu-Jitsu Championship\n",
      "2021 Pan Jiu-Jitsu IBJJF Championship\n",
      "2021 World Jiu-Jitsu IBJJF Championship\n",
      "2022 European Jiu-Jitsu IBJJF Championship\n",
      "2022 Pan Jiu Jitsu IBJJF Championship\n",
      "2022 World Jiu-Jitsu IBJJF Championship\n",
      "2023 Pan Jiu Jitsu IBJJF Championship\n",
      "IBJJF 2017 European Jiu-Jitsu Championship\n",
      "IBJJF 2017 Pan Jiu-Jitsu Championship\n",
      "IBJJF 2017 World Jiu-Jitsu Championship\n",
      "Pan IBJJF Jiu Jitsu Championship 2022\n"
     ]
    }
   ],
   "source": [
    "# Verificar os valores únicos da coluna 'evento'\n",
    "valores_unicos_campeonatos = historico_golpes['campeonato'].unique()\n",
    "valores_unicos_campeonatos = sorted(valores_unicos_campeonatos)\n",
    "print(\"Valores únicos de campeonatos:\")\n",
    "for valor in valores_unicos_campeonatos:\n",
    "    print(valor)"
   ]
  },
  {
   "cell_type": "code",
   "execution_count": 167,
   "metadata": {},
   "outputs": [
    {
     "name": "stdout",
     "output_type": "stream",
     "text": [
      "Número de linhas ANTES: 418\n",
      "------------------------------------------------------------\n",
      "Número de linhas DEPOIS (inplace): 402\n"
     ]
    }
   ],
   "source": [
    "# deletar evento duplicado\n",
    "print(f\"Número de linhas ANTES: {len(historico_golpes)}\")\n",
    "print(\"-\" * 60)\n",
    "\n",
    "# Valor exato da string a ser removida\n",
    "valor_remover = \"2022 Pan Jiu Jitsu IBJJF Championship\"\n",
    "indices_para_remover = historico_golpes[historico_golpes['campeonato'] == valor_remover].index\n",
    "historico_golpes.drop(indices_para_remover, inplace=True)\n",
    "\n",
    "print(f\"Número de linhas DEPOIS (inplace): {len(historico_golpes)}\")\n"
   ]
  },
  {
   "cell_type": "code",
   "execution_count": 168,
   "metadata": {},
   "outputs": [],
   "source": [
    "# Padronizar nomes: \n",
    "historico_golpes.loc[historico_golpes['campeonato'] == \"IBJJF 2017 European Jiu-Jitsu Championship\", 'campeonato'] = \"2017 European Jiu-Jitsu IBJJF Championship\"\n",
    "historico_golpes.loc[historico_golpes['campeonato'] == \"IBJJF 2017 Pan Jiu-Jitsu Championship\", 'campeonato'] = \"2017 Pan Jiu-Jitsu IBJJF Championship\"\n",
    "historico_golpes.loc[historico_golpes['campeonato'] == \"Pan IBJJF Jiu Jitsu Championship 2022\", 'campeonato'] = \"2022 Pan Jiu-Jitsu IBJJF Championship\"\n",
    "historico_golpes.loc[historico_golpes['campeonato'] == \"2023 Pan Jiu Jitsu IBJJF Championship\", 'campeonato'] = \"2023 Pan Jiu-Jitsu IBJJF Championship\"\n",
    "historico_golpes.loc[historico_golpes['campeonato'] == \"IBJJF 2017 World Jiu-Jitsu Championship\", 'campeonato'] = \"2017 World Jiu-Jitsu IBJJF Championship\"\n",
    "historico_golpes.loc[historico_golpes['campeonato'] == \"2016 IBJJF World Jiu-Jitsu Championship\", 'campeonato'] = \"2016 World Jiu-Jitsu IBJJF Championship\"\n",
    "historico_golpes.loc[historico_golpes['campeonato'] == \"2018 World IBJJF Jiu-Jitsu Championship\", 'campeonato'] = \"2018 World Jiu-Jitsu IBJJF Championship\"\n"
   ]
  },
  {
   "cell_type": "code",
   "execution_count": 169,
   "metadata": {},
   "outputs": [
    {
     "name": "stdout",
     "output_type": "stream",
     "text": [
      "Valores únicos de campeonatos:\n",
      "2014 Brazilian National Jiu-Jitsu Championship\n",
      "2014 Pan Jiu-Jitsu IBJJF Championship\n",
      "2014 World Jiu-Jitsu IBJJF Championship\n",
      "2015 Brazilian National Jiu-Jitsu Championship\n",
      "2015 World Jiu-Jitsu IBJJF Championship\n",
      "2016 Brazilian National Jiu-Jitsu Championship\n",
      "2016 European Jiu-Jitsu IBJJF Championship\n",
      "2016 Pan Jiu-Jitsu IBJJF Championship\n",
      "2016 World Jiu-Jitsu IBJJF Championship\n",
      "2017 Brazilian National Jiu-Jitsu Championship\n",
      "2017 European Jiu-Jitsu IBJJF Championship\n",
      "2017 Pan Jiu-Jitsu IBJJF Championship\n",
      "2017 World Jiu-Jitsu IBJJF Championship\n",
      "2018 Brazilian National Jiu-Jitsu Championship\n",
      "2018 European Jiu-Jitsu IBJJF Championship\n",
      "2018 Pan Jiu-Jitsu IBJJF Championship\n",
      "2018 World Jiu-Jitsu IBJJF Championship\n",
      "2019 European Jiu-Jitsu IBJJF Championship\n",
      "2019 Pan Jiu-Jitsu IBJJF Championship\n",
      "2019 World Jiu-Jitsu IBJJF Championship\n",
      "2020 European Jiu-Jitsu IBJJF Championship\n",
      "2020 Pan Jiu-Jitsu IBJJF Championship\n",
      "2021 Brazilian National Jiu-Jitsu Championship\n",
      "2021 Pan Jiu-Jitsu IBJJF Championship\n",
      "2021 World Jiu-Jitsu IBJJF Championship\n",
      "2022 European Jiu-Jitsu IBJJF Championship\n",
      "2022 Pan Jiu-Jitsu IBJJF Championship\n",
      "2022 World Jiu-Jitsu IBJJF Championship\n",
      "2023 Pan Jiu-Jitsu IBJJF Championship\n"
     ]
    }
   ],
   "source": [
    "# Verificar os valores ajustado da coluna 'campeonato'\n",
    "valores_unicos_campeonatos = historico_golpes['campeonato'].unique()\n",
    "valores_unicos_campeonatos = sorted(valores_unicos_campeonatos)\n",
    "print(\"Valores únicos de campeonatos:\")\n",
    "for valor in valores_unicos_campeonatos:\n",
    "    print(valor)"
   ]
  },
  {
   "cell_type": "code",
   "execution_count": 172,
   "metadata": {},
   "outputs": [],
   "source": [
    "# Enriquecimento do dado: adicionando tipos de golpes\n",
    "\n",
    "df_mapeamento = pd.read_csv(r\"C:\\Users\\Rafael\\Desktop\\MBA\\TCC\\BJJ\\mapeamento_golpes.csv\", encoding='latin-1', sep=',')\n",
    "\n",
    "# Renomeia a coluna problematica\n",
    "df_mapeamento.rename(columns={'ï»¿golpe': 'golpe'}, inplace=True)\n",
    "\n",
    "# Merge com o csv auxiliar que classifica os golpes\n",
    "df_enriquecido = pd.merge(historico_golpes, \n",
    "                          df_mapeamento[['golpe', 'tipo_golpe']],\n",
    "                          on='golpe',\n",
    "                          how='left')"
   ]
  },
  {
   "cell_type": "code",
   "execution_count": 174,
   "metadata": {},
   "outputs": [],
   "source": [
    "# Salva os Dataframes em um arquivo CSV\n",
    "df_enriquecido.to_csv('bjj_dado_tratado.csv', index=False)  "
   ]
  }
 ],
 "metadata": {
  "kernelspec": {
   "display_name": "base",
   "language": "python",
   "name": "python3"
  },
  "language_info": {
   "codemirror_mode": {
    "name": "ipython",
    "version": 3
   },
   "file_extension": ".py",
   "mimetype": "text/x-python",
   "name": "python",
   "nbconvert_exporter": "python",
   "pygments_lexer": "ipython3",
   "version": "3.11.7"
  }
 },
 "nbformat": 4,
 "nbformat_minor": 2
}
